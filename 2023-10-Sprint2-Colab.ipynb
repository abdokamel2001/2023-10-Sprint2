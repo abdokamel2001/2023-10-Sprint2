{
  "nbformat": 4,
  "nbformat_minor": 0,
  "metadata": {
    "colab": {
      "provenance": [],
      "mount_file_id": "1ob3VD0OV7ETa5r77F-an74x8GVF0m1i2",
      "authorship_tag": "ABX9TyNT5n5/MCU5cu7dhPcgbjXG",
      "include_colab_link": true
    },
    "kernelspec": {
      "name": "python3",
      "display_name": "Python 3"
    },
    "language_info": {
      "name": "python"
    }
  },
  "cells": [
    {
      "cell_type": "markdown",
      "metadata": {
        "id": "view-in-github",
        "colab_type": "text"
      },
      "source": [
        "<a href=\"https://colab.research.google.com/github/abdokamel2001/ASL-Translation-Project/blob/main/2023-10-Sprint2-Colab.ipynb\" target=\"_parent\"><img src=\"https://colab.research.google.com/assets/colab-badge.svg\" alt=\"Open In Colab\"/></a>"
      ]
    },
    {
      "cell_type": "markdown",
      "source": [
        "# Microsoft Dataset Sign Language Model"
      ],
      "metadata": {
        "id": "61P_xOHYKo71"
      }
    },
    {
      "cell_type": "code",
      "source": [
        "!cp -r \"/content/drive/MyDrive/AI Team/Tasks/2023-10-Sprint2/MS-ASL\" \"/content\" #Import the dataset"
      ],
      "metadata": {
        "id": "umAGvlW1KpRr"
      },
      "execution_count": 1,
      "outputs": []
    },
    {
      "cell_type": "code",
      "source": [],
      "metadata": {
        "id": "wJM-ocdXP5UE"
      },
      "execution_count": null,
      "outputs": []
    }
  ]
}